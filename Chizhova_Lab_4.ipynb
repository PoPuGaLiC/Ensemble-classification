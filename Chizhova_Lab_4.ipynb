{
  "nbformat": 4,
  "nbformat_minor": 0,
  "metadata": {
    "colab": {
      "name": "Chizhova_Lab_4.ipynb",
      "provenance": [],
      "collapsed_sections": []
    },
    "kernelspec": {
      "name": "python3",
      "display_name": "Python 3"
    },
    "language_info": {
      "name": "python"
    }
  },
  "cells": [
    {
      "cell_type": "code",
      "execution_count": 1,
      "metadata": {
        "id": "zcXRioHCqsqH"
      },
      "outputs": [],
      "source": [
        "import pandas as pd\n",
        "import matplotlib.pyplot as plt\n",
        "import seaborn as sns\n",
        "import numpy as np\n",
        "import warnings\n",
        "from sklearn.ensemble import BaggingClassifier\n",
        "from sklearn import tree\n",
        "from sklearn.model_selection import train_test_split\n",
        "from sklearn.metrics import f1_score, accuracy_score, precision_score, recall_score\n",
        "import matplotlib.pyplot as plt"
      ]
    },
    {
      "cell_type": "code",
      "source": [
        "df = pd.read_csv(\"grades.csv\")\n",
        "df.head()\n",
        "df.shape"
      ],
      "metadata": {
        "colab": {
          "base_uri": "https://localhost:8080/"
        },
        "id": "cr4lsJvJuDtr",
        "outputId": "94acb386-4699-4661-8318-6aba391f9cd3"
      },
      "execution_count": 2,
      "outputs": [
        {
          "output_type": "execute_result",
          "data": {
            "text/plain": [
              "(72, 9)"
            ]
          },
          "metadata": {},
          "execution_count": 2
        }
      ]
    },
    {
      "cell_type": "code",
      "source": [
        "\n",
        "df.isnull().sum()"
      ],
      "metadata": {
        "colab": {
          "base_uri": "https://localhost:8080/"
        },
        "id": "qh23U-Dhwepj",
        "outputId": "5c6421c9-cacd-4c5f-b28a-9683e5e02dd7"
      },
      "execution_count": 3,
      "outputs": [
        {
          "output_type": "execute_result",
          "data": {
            "text/plain": [
              "PUPIL_SEX        0\n",
              "PUPIL_CLASS      0\n",
              "TEACHER_RIGHT    0\n",
              "TEACHER_CHK      0\n",
              "TEACHER_QUEST    0\n",
              "TEACHER_CORR     0\n",
              "PUPIL_CORR       0\n",
              "PUPIL_STRIP      0\n",
              "GRADE            0\n",
              "dtype: int64"
            ]
          },
          "metadata": {},
          "execution_count": 3
        }
      ]
    },
    {
      "cell_type": "code",
      "source": [
        "\n",
        "df.describe()"
      ],
      "metadata": {
        "colab": {
          "base_uri": "https://localhost:8080/",
          "height": 300
        },
        "id": "mtKF8Lcbwgcs",
        "outputId": "9685e8d3-a1c4-46cf-d833-c1e326e20580"
      },
      "execution_count": 4,
      "outputs": [
        {
          "output_type": "execute_result",
          "data": {
            "text/plain": [
              "       TEACHER_RIGHT  TEACHER_CHK  TEACHER_QUEST  TEACHER_CORR  PUPIL_CORR  \\\n",
              "count      72.000000    72.000000      72.000000     72.000000   72.000000   \n",
              "mean       66.458333     0.305556       0.500000      1.555556    1.597222   \n",
              "std        30.541100     0.704890       0.919277      1.582376    2.243361   \n",
              "min         0.000000     0.000000       0.000000      0.000000    0.000000   \n",
              "25%        47.500000     0.000000       0.000000      0.000000    0.000000   \n",
              "50%        70.000000     0.000000       0.000000      1.000000    1.000000   \n",
              "75%        95.000000     0.000000       1.000000      2.000000    2.000000   \n",
              "max       100.000000     4.000000       4.000000      6.000000   10.000000   \n",
              "\n",
              "       PUPIL_STRIP  \n",
              "count    72.000000  \n",
              "mean      2.861111  \n",
              "std       3.031783  \n",
              "min       0.000000  \n",
              "25%       0.750000  \n",
              "50%       2.000000  \n",
              "75%       4.250000  \n",
              "max      12.000000  "
            ],
            "text/html": [
              "\n",
              "  <div id=\"df-ad294642-e3e6-468a-bc2b-90349948fa7f\">\n",
              "    <div class=\"colab-df-container\">\n",
              "      <div>\n",
              "<style scoped>\n",
              "    .dataframe tbody tr th:only-of-type {\n",
              "        vertical-align: middle;\n",
              "    }\n",
              "\n",
              "    .dataframe tbody tr th {\n",
              "        vertical-align: top;\n",
              "    }\n",
              "\n",
              "    .dataframe thead th {\n",
              "        text-align: right;\n",
              "    }\n",
              "</style>\n",
              "<table border=\"1\" class=\"dataframe\">\n",
              "  <thead>\n",
              "    <tr style=\"text-align: right;\">\n",
              "      <th></th>\n",
              "      <th>TEACHER_RIGHT</th>\n",
              "      <th>TEACHER_CHK</th>\n",
              "      <th>TEACHER_QUEST</th>\n",
              "      <th>TEACHER_CORR</th>\n",
              "      <th>PUPIL_CORR</th>\n",
              "      <th>PUPIL_STRIP</th>\n",
              "    </tr>\n",
              "  </thead>\n",
              "  <tbody>\n",
              "    <tr>\n",
              "      <th>count</th>\n",
              "      <td>72.000000</td>\n",
              "      <td>72.000000</td>\n",
              "      <td>72.000000</td>\n",
              "      <td>72.000000</td>\n",
              "      <td>72.000000</td>\n",
              "      <td>72.000000</td>\n",
              "    </tr>\n",
              "    <tr>\n",
              "      <th>mean</th>\n",
              "      <td>66.458333</td>\n",
              "      <td>0.305556</td>\n",
              "      <td>0.500000</td>\n",
              "      <td>1.555556</td>\n",
              "      <td>1.597222</td>\n",
              "      <td>2.861111</td>\n",
              "    </tr>\n",
              "    <tr>\n",
              "      <th>std</th>\n",
              "      <td>30.541100</td>\n",
              "      <td>0.704890</td>\n",
              "      <td>0.919277</td>\n",
              "      <td>1.582376</td>\n",
              "      <td>2.243361</td>\n",
              "      <td>3.031783</td>\n",
              "    </tr>\n",
              "    <tr>\n",
              "      <th>min</th>\n",
              "      <td>0.000000</td>\n",
              "      <td>0.000000</td>\n",
              "      <td>0.000000</td>\n",
              "      <td>0.000000</td>\n",
              "      <td>0.000000</td>\n",
              "      <td>0.000000</td>\n",
              "    </tr>\n",
              "    <tr>\n",
              "      <th>25%</th>\n",
              "      <td>47.500000</td>\n",
              "      <td>0.000000</td>\n",
              "      <td>0.000000</td>\n",
              "      <td>0.000000</td>\n",
              "      <td>0.000000</td>\n",
              "      <td>0.750000</td>\n",
              "    </tr>\n",
              "    <tr>\n",
              "      <th>50%</th>\n",
              "      <td>70.000000</td>\n",
              "      <td>0.000000</td>\n",
              "      <td>0.000000</td>\n",
              "      <td>1.000000</td>\n",
              "      <td>1.000000</td>\n",
              "      <td>2.000000</td>\n",
              "    </tr>\n",
              "    <tr>\n",
              "      <th>75%</th>\n",
              "      <td>95.000000</td>\n",
              "      <td>0.000000</td>\n",
              "      <td>1.000000</td>\n",
              "      <td>2.000000</td>\n",
              "      <td>2.000000</td>\n",
              "      <td>4.250000</td>\n",
              "    </tr>\n",
              "    <tr>\n",
              "      <th>max</th>\n",
              "      <td>100.000000</td>\n",
              "      <td>4.000000</td>\n",
              "      <td>4.000000</td>\n",
              "      <td>6.000000</td>\n",
              "      <td>10.000000</td>\n",
              "      <td>12.000000</td>\n",
              "    </tr>\n",
              "  </tbody>\n",
              "</table>\n",
              "</div>\n",
              "      <button class=\"colab-df-convert\" onclick=\"convertToInteractive('df-ad294642-e3e6-468a-bc2b-90349948fa7f')\"\n",
              "              title=\"Convert this dataframe to an interactive table.\"\n",
              "              style=\"display:none;\">\n",
              "        \n",
              "  <svg xmlns=\"http://www.w3.org/2000/svg\" height=\"24px\"viewBox=\"0 0 24 24\"\n",
              "       width=\"24px\">\n",
              "    <path d=\"M0 0h24v24H0V0z\" fill=\"none\"/>\n",
              "    <path d=\"M18.56 5.44l.94 2.06.94-2.06 2.06-.94-2.06-.94-.94-2.06-.94 2.06-2.06.94zm-11 1L8.5 8.5l.94-2.06 2.06-.94-2.06-.94L8.5 2.5l-.94 2.06-2.06.94zm10 10l.94 2.06.94-2.06 2.06-.94-2.06-.94-.94-2.06-.94 2.06-2.06.94z\"/><path d=\"M17.41 7.96l-1.37-1.37c-.4-.4-.92-.59-1.43-.59-.52 0-1.04.2-1.43.59L10.3 9.45l-7.72 7.72c-.78.78-.78 2.05 0 2.83L4 21.41c.39.39.9.59 1.41.59.51 0 1.02-.2 1.41-.59l7.78-7.78 2.81-2.81c.8-.78.8-2.07 0-2.86zM5.41 20L4 18.59l7.72-7.72 1.47 1.35L5.41 20z\"/>\n",
              "  </svg>\n",
              "      </button>\n",
              "      \n",
              "  <style>\n",
              "    .colab-df-container {\n",
              "      display:flex;\n",
              "      flex-wrap:wrap;\n",
              "      gap: 12px;\n",
              "    }\n",
              "\n",
              "    .colab-df-convert {\n",
              "      background-color: #E8F0FE;\n",
              "      border: none;\n",
              "      border-radius: 50%;\n",
              "      cursor: pointer;\n",
              "      display: none;\n",
              "      fill: #1967D2;\n",
              "      height: 32px;\n",
              "      padding: 0 0 0 0;\n",
              "      width: 32px;\n",
              "    }\n",
              "\n",
              "    .colab-df-convert:hover {\n",
              "      background-color: #E2EBFA;\n",
              "      box-shadow: 0px 1px 2px rgba(60, 64, 67, 0.3), 0px 1px 3px 1px rgba(60, 64, 67, 0.15);\n",
              "      fill: #174EA6;\n",
              "    }\n",
              "\n",
              "    [theme=dark] .colab-df-convert {\n",
              "      background-color: #3B4455;\n",
              "      fill: #D2E3FC;\n",
              "    }\n",
              "\n",
              "    [theme=dark] .colab-df-convert:hover {\n",
              "      background-color: #434B5C;\n",
              "      box-shadow: 0px 1px 3px 1px rgba(0, 0, 0, 0.15);\n",
              "      filter: drop-shadow(0px 1px 2px rgba(0, 0, 0, 0.3));\n",
              "      fill: #FFFFFF;\n",
              "    }\n",
              "  </style>\n",
              "\n",
              "      <script>\n",
              "        const buttonEl =\n",
              "          document.querySelector('#df-ad294642-e3e6-468a-bc2b-90349948fa7f button.colab-df-convert');\n",
              "        buttonEl.style.display =\n",
              "          google.colab.kernel.accessAllowed ? 'block' : 'none';\n",
              "\n",
              "        async function convertToInteractive(key) {\n",
              "          const element = document.querySelector('#df-ad294642-e3e6-468a-bc2b-90349948fa7f');\n",
              "          const dataTable =\n",
              "            await google.colab.kernel.invokeFunction('convertToInteractive',\n",
              "                                                     [key], {});\n",
              "          if (!dataTable) return;\n",
              "\n",
              "          const docLinkHtml = 'Like what you see? Visit the ' +\n",
              "            '<a target=\"_blank\" href=https://colab.research.google.com/notebooks/data_table.ipynb>data table notebook</a>'\n",
              "            + ' to learn more about interactive tables.';\n",
              "          element.innerHTML = '';\n",
              "          dataTable['output_type'] = 'display_data';\n",
              "          await google.colab.output.renderOutput(dataTable, element);\n",
              "          const docLink = document.createElement('div');\n",
              "          docLink.innerHTML = docLinkHtml;\n",
              "          element.appendChild(docLink);\n",
              "        }\n",
              "      </script>\n",
              "    </div>\n",
              "  </div>\n",
              "  "
            ]
          },
          "metadata": {},
          "execution_count": 4
        }
      ]
    },
    {
      "cell_type": "code",
      "source": [
        "df['PUPIL_SEX'] = df['PUPIL_SEX'].replace(['M','F'],['0','1'])\n",
        "df['PUPIL_CLASS'] = df['PUPIL_CLASS'].replace(['8A','8B'],['0','1'])\n",
        "X = df[[\"PUPIL_SEX\",\"PUPIL_CLASS\",\"TEACHER_RIGHT\", \"TEACHER_CHK\", \"TEACHER_QUEST\", \"TEACHER_CORR\", \"PUPIL_CORR\", \"PUPIL_STRIP\"]]\n",
        "Y = df.GRADE\n",
        "f1 = []\n",
        "accur = []\n",
        "precis = []\n",
        "rec = []"
      ],
      "metadata": {
        "id": "f4Ovjqu9wjoL"
      },
      "execution_count": 5,
      "outputs": []
    },
    {
      "cell_type": "code",
      "source": [
        "X_train, X_test, y_train, y_test = train_test_split(X, Y, test_size = 0.5, train_size = 0.5)\n",
        "dt_clf = tree.DecisionTreeClassifier(criterion = \"gini\")\n",
        "\n",
        "clf_bagging = BaggingClassifier(base_estimator=dt_clf, n_estimators=50, oob_score=True)\n",
        "clf_bagging.fit(X_train, y_train)\n",
        "y_pred = clf_bagging.predict(X_test)\n",
        "\n",
        "f1.append(float(f1_score(y_test, y_pred,average='macro')))\n",
        "accur.append(float(accuracy_score(y_test, y_pred)))\n",
        "precis.append(float(precision_score(y_test, y_pred, average='macro')))\n",
        "rec.append(float(recall_score(y_test, y_pred, average='macro')))\n",
        "print(\"F-мера : \" , f1_score(y_test, y_pred,average='macro'))\n",
        "print(\"Аккуратность : \" , accuracy_score(y_test, y_pred))\n",
        "print(\"Точность : \" , precision_score(y_test, y_pred, average='macro'))\n",
        "print(\"Полнота : \" , recall_score(y_test, y_pred,average='macro'))"
      ],
      "metadata": {
        "colab": {
          "base_uri": "https://localhost:8080/"
        },
        "id": "xM2Na236xHHT",
        "outputId": "72008468-69f9-4c00-90a4-b24729c13f74"
      },
      "execution_count": 6,
      "outputs": [
        {
          "output_type": "stream",
          "name": "stdout",
          "text": [
            "F-мера :  0.4126984126984127\n",
            "Аккуратность :  0.5\n",
            "Точность :  0.5341991341991342\n",
            "Полнота :  0.5035714285714286\n"
          ]
        },
        {
          "output_type": "stream",
          "name": "stderr",
          "text": [
            "/usr/local/lib/python3.7/dist-packages/sklearn/metrics/_classification.py:1318: UndefinedMetricWarning: Precision is ill-defined and being set to 0.0 in labels with no predicted samples. Use `zero_division` parameter to control this behavior.\n",
            "  _warn_prf(average, modifier, msg_start, len(result))\n",
            "/usr/local/lib/python3.7/dist-packages/sklearn/metrics/_classification.py:1318: UndefinedMetricWarning: Precision is ill-defined and being set to 0.0 in labels with no predicted samples. Use `zero_division` parameter to control this behavior.\n",
            "  _warn_prf(average, modifier, msg_start, len(result))\n"
          ]
        }
      ]
    },
    {
      "cell_type": "code",
      "source": [
        "X_train, X_test, y_train, y_test = train_test_split(X, Y, test_size = 0.5, train_size = 0.5)\n",
        "dt_clf = tree.DecisionTreeClassifier(criterion = \"gini\")\n",
        "\n",
        "clf_bagging = BaggingClassifier(base_estimator=dt_clf, n_estimators=60, oob_score=True)\n",
        "clf_bagging.fit(X_train, y_train)\n",
        "y_pred = clf_bagging.predict(X_test)\n",
        "\n",
        "f1.append(float(f1_score(y_test, y_pred,average='macro')))\n",
        "accur.append(float(accuracy_score(y_test, y_pred)))\n",
        "precis.append(float(precision_score(y_test, y_pred, average='macro')))\n",
        "rec.append(float(recall_score(y_test, y_pred, average='macro')))\n",
        "print(\"F-мера : \" , f1_score(y_test, y_pred,average='macro'))\n",
        "print(\"Аккуратность : \" , accuracy_score(y_test, y_pred))\n",
        "print(\"Точность : \" , precision_score(y_test, y_pred, average='macro'))\n",
        "print(\"Полнота : \" , recall_score(y_test, y_pred,average='macro'))"
      ],
      "metadata": {
        "colab": {
          "base_uri": "https://localhost:8080/"
        },
        "id": "E-Npw1mFDO8w",
        "outputId": "83e35139-2511-4237-ced2-af8643305597"
      },
      "execution_count": 7,
      "outputs": [
        {
          "output_type": "stream",
          "name": "stdout",
          "text": [
            "F-мера :  0.5026592455163883\n",
            "Аккуратность :  0.5833333333333334\n",
            "Точность :  0.5208333333333333\n",
            "Полнота :  0.5714285714285714\n"
          ]
        },
        {
          "output_type": "stream",
          "name": "stderr",
          "text": [
            "/usr/local/lib/python3.7/dist-packages/sklearn/metrics/_classification.py:1318: UndefinedMetricWarning: Precision is ill-defined and being set to 0.0 in labels with no predicted samples. Use `zero_division` parameter to control this behavior.\n",
            "  _warn_prf(average, modifier, msg_start, len(result))\n",
            "/usr/local/lib/python3.7/dist-packages/sklearn/metrics/_classification.py:1318: UndefinedMetricWarning: Precision is ill-defined and being set to 0.0 in labels with no predicted samples. Use `zero_division` parameter to control this behavior.\n",
            "  _warn_prf(average, modifier, msg_start, len(result))\n"
          ]
        }
      ]
    },
    {
      "cell_type": "code",
      "source": [
        "X_train, X_test, y_train, y_test = train_test_split(X, Y, test_size = 0.5, train_size = 0.5)\n",
        "dt_clf = tree.DecisionTreeClassifier(criterion = \"gini\")\n",
        "\n",
        "clf_bagging = BaggingClassifier(base_estimator=dt_clf, n_estimators=70, oob_score=True)\n",
        "clf_bagging.fit(X_train, y_train)\n",
        "y_pred = clf_bagging.predict(X_test)\n",
        "\n",
        "f1.append(float(f1_score(y_test, y_pred,average='macro')))\n",
        "accur.append(float(accuracy_score(y_test, y_pred)))\n",
        "precis.append(float(precision_score(y_test, y_pred, average='macro')))\n",
        "rec.append(float(recall_score(y_test, y_pred, average='macro')))\n",
        "print(\"F-мера : \" , f1_score(y_test, y_pred,average='macro'))\n",
        "print(\"Аккуратность : \" , accuracy_score(y_test, y_pred))\n",
        "print(\"Точность : \" , precision_score(y_test, y_pred, average='macro'))\n",
        "print(\"Полнота : \" , recall_score(y_test, y_pred,average='macro'))"
      ],
      "metadata": {
        "colab": {
          "base_uri": "https://localhost:8080/"
        },
        "id": "gA0mMjd1DrQw",
        "outputId": "c9297ab0-b0af-433c-b7a0-16e80f33215a"
      },
      "execution_count": 8,
      "outputs": [
        {
          "output_type": "stream",
          "name": "stdout",
          "text": [
            "F-мера :  0.4004578754578755\n",
            "Аккуратность :  0.4722222222222222\n",
            "Точность :  0.4061224489795919\n",
            "Полнота :  0.435374149659864\n"
          ]
        }
      ]
    },
    {
      "cell_type": "code",
      "source": [
        "X_train, X_test, y_train, y_test = train_test_split(X, Y, test_size = 0.5, train_size = 0.5)\n",
        "dt_clf = tree.DecisionTreeClassifier(criterion = \"gini\")\n",
        "\n",
        "clf_bagging = BaggingClassifier(base_estimator=dt_clf, n_estimators=80, oob_score=True)\n",
        "clf_bagging.fit(X_train, y_train)\n",
        "y_pred = clf_bagging.predict(X_test)\n",
        "\n",
        "f1.append(float(f1_score(y_test, y_pred,average='macro')))\n",
        "accur.append(float(accuracy_score(y_test, y_pred)))\n",
        "precis.append(float(precision_score(y_test, y_pred, average='macro')))\n",
        "rec.append(float(recall_score(y_test, y_pred, average='macro')))\n",
        "print(\"F-мера : \" , f1_score(y_test, y_pred,average='macro'))\n",
        "print(\"Аккуратность : \" , accuracy_score(y_test, y_pred))\n",
        "print(\"Точность : \" , precision_score(y_test, y_pred, average='macro'))\n",
        "print(\"Полнота : \" , recall_score(y_test, y_pred,average='macro'))"
      ],
      "metadata": {
        "colab": {
          "base_uri": "https://localhost:8080/"
        },
        "id": "QmNQRnWMDuOu",
        "outputId": "45bb6be7-cbc7-4468-8004-f940e21af88f"
      },
      "execution_count": 9,
      "outputs": [
        {
          "output_type": "stream",
          "name": "stdout",
          "text": [
            "F-мера :  0.5539769754055469\n",
            "Аккуратность :  0.6388888888888888\n",
            "Точность :  0.5465367965367964\n",
            "Полнота :  0.5996860282574569\n"
          ]
        },
        {
          "output_type": "stream",
          "name": "stderr",
          "text": [
            "/usr/local/lib/python3.7/dist-packages/sklearn/metrics/_classification.py:1318: UndefinedMetricWarning: Precision is ill-defined and being set to 0.0 in labels with no predicted samples. Use `zero_division` parameter to control this behavior.\n",
            "  _warn_prf(average, modifier, msg_start, len(result))\n",
            "/usr/local/lib/python3.7/dist-packages/sklearn/metrics/_classification.py:1318: UndefinedMetricWarning: Precision is ill-defined and being set to 0.0 in labels with no predicted samples. Use `zero_division` parameter to control this behavior.\n",
            "  _warn_prf(average, modifier, msg_start, len(result))\n"
          ]
        }
      ]
    },
    {
      "cell_type": "code",
      "source": [
        "X_train, X_test, y_train, y_test = train_test_split(X, Y, test_size = 0.5, train_size = 0.5)\n",
        "dt_clf = tree.DecisionTreeClassifier(criterion = \"gini\")\n",
        "\n",
        "clf_bagging = BaggingClassifier(base_estimator=dt_clf, n_estimators=90, oob_score=True)\n",
        "clf_bagging.fit(X_train, y_train)\n",
        "y_pred = clf_bagging.predict(X_test)\n",
        "\n",
        "f1.append(float(f1_score(y_test, y_pred,average='macro')))\n",
        "accur.append(float(accuracy_score(y_test, y_pred)))\n",
        "precis.append(float(precision_score(y_test, y_pred, average='macro')))\n",
        "rec.append(float(recall_score(y_test, y_pred, average='macro')))\n",
        "print(\"F-мера : \" , f1_score(y_test, y_pred,average='macro'))\n",
        "print(\"Аккуратность : \" , accuracy_score(y_test, y_pred))\n",
        "print(\"Точность : \" , precision_score(y_test, y_pred, average='macro'))\n",
        "print(\"Полнота : \" , recall_score(y_test, y_pred,average='macro'))"
      ],
      "metadata": {
        "colab": {
          "base_uri": "https://localhost:8080/"
        },
        "id": "wHR75rxwlpRn",
        "outputId": "8aa703cd-2c7f-45de-fb66-e62cf510d5d2"
      },
      "execution_count": 10,
      "outputs": [
        {
          "output_type": "stream",
          "name": "stdout",
          "text": [
            "F-мера :  0.427045177045177\n",
            "Аккуратность :  0.5555555555555556\n",
            "Точность :  0.4654761904761905\n",
            "Полнота :  0.4309523809523809\n"
          ]
        }
      ]
    },
    {
      "cell_type": "code",
      "source": [
        "X_train, X_test, y_train, y_test = train_test_split(X, Y, test_size = 0.5, train_size = 0.5)\n",
        "dt_clf = tree.DecisionTreeClassifier(criterion = \"gini\")\n",
        "\n",
        "clf_bagging = BaggingClassifier(base_estimator=dt_clf, n_estimators=100, oob_score=True)\n",
        "clf_bagging.fit(X_train, y_train)\n",
        "y_pred = clf_bagging.predict(X_test)\n",
        "\n",
        "f1.append(float(f1_score(y_test, y_pred,average='macro')))\n",
        "accur.append(float(accuracy_score(y_test, y_pred)))\n",
        "precis.append(float(precision_score(y_test, y_pred, average='macro')))\n",
        "rec.append(float(recall_score(y_test, y_pred, average='macro')))\n",
        "print(\"F-мера : \" , f1_score(y_test, y_pred,average='macro'))\n",
        "print(\"Аккуратность : \" , accuracy_score(y_test, y_pred))\n",
        "print(\"Точность : \" , precision_score(y_test, y_pred, average='macro'))\n",
        "print(\"Полнота : \" , recall_score(y_test, y_pred,average='macro'))"
      ],
      "metadata": {
        "colab": {
          "base_uri": "https://localhost:8080/"
        },
        "id": "2zlhiYJalvAb",
        "outputId": "9eaa838f-8f32-4a3c-be07-4efdfb8cf9a9"
      },
      "execution_count": 11,
      "outputs": [
        {
          "output_type": "stream",
          "name": "stdout",
          "text": [
            "F-мера :  0.4319264069264069\n",
            "Аккуратность :  0.5\n",
            "Точность :  0.46428571428571436\n",
            "Полнота :  0.48730158730158735\n"
          ]
        },
        {
          "output_type": "stream",
          "name": "stderr",
          "text": [
            "/usr/local/lib/python3.7/dist-packages/sklearn/metrics/_classification.py:1318: UndefinedMetricWarning: Precision is ill-defined and being set to 0.0 in labels with no predicted samples. Use `zero_division` parameter to control this behavior.\n",
            "  _warn_prf(average, modifier, msg_start, len(result))\n",
            "/usr/local/lib/python3.7/dist-packages/sklearn/metrics/_classification.py:1318: UndefinedMetricWarning: Precision is ill-defined and being set to 0.0 in labels with no predicted samples. Use `zero_division` parameter to control this behavior.\n",
            "  _warn_prf(average, modifier, msg_start, len(result))\n"
          ]
        }
      ]
    },
    {
      "cell_type": "code",
      "source": [
        "names = [\"50\",\"60\",\"70\",\"80\",\"90\",\"100\"]\n",
        "plt.bar(names, f1)\n",
        "plt.xlabel(\"количество участников ансамбля\")\n",
        "plt.ylabel(\"F-мера\")\n",
        "plt.show()\n",
        "plt.bar(names, accur)\n",
        "plt.xlabel(\"количество участников ансамбля\")\n",
        "plt.ylabel(\"аккуратность\")\n",
        "plt.show()\n",
        "plt.bar(names, precis)\n",
        "plt.xlabel(\"количество участников ансамбля\")\n",
        "plt.ylabel(\"точность\")\n",
        "plt.show()\n",
        "plt.bar(names, rec)\n",
        "plt.xlabel(\"количество участников ансамбля\")\n",
        "plt.ylabel(\"полнота\")\n",
        "plt.show()"
      ],
      "metadata": {
        "colab": {
          "base_uri": "https://localhost:8080/",
          "height": 1000
        },
        "id": "WfK4ZUUkD5KP",
        "outputId": "2bd08be3-96e8-4666-ecce-d1411cfeb0d1"
      },
      "execution_count": 12,
      "outputs": [
        {
          "output_type": "display_data",
          "data": {
            "text/plain": [
              "<Figure size 432x288 with 1 Axes>"
            ],
            "image/png": "[encoded data removed]"
          },
          "metadata": {
            "needs_background": "light"
          }
        },
        {
          "output_type": "display_data",
          "data": {
            "text/plain": [
              "<Figure size 432x288 with 1 Axes>"
            ],
            "image/png": "[encoded data removed]"
          },
          "metadata": {
            "needs_background": "light"
          }
        },
        {
          "output_type": "display_data",
          "data": {
            "text/plain": [
              "<Figure size 432x288 with 1 Axes>"
            ],
            "image/png": "[encoded data removed]"
          },
          "metadata": {
            "needs_background": "light"
          }
        },
        {
          "output_type": "display_data",
          "data": {
            "text/plain": [
              "<Figure size 432x288 with 1 Axes>"
            ],
            "image/png": "[encoded data removed]"
          },
          "metadata": {
            "needs_background": "light"
          }
        }
      ]
    },
    {
      "cell_type": "code",
      "source": [
        "df = pd.read_csv(\"heart_disease.csv\")\n",
        "df.head()\n",
        "df.shape"
      ],
      "metadata": {
        "colab": {
          "base_uri": "https://localhost:8080/"
        },
        "id": "K9LDHYEfgQ0p",
        "outputId": "88a4149a-9321-414a-9901-e77449c14459"
      },
      "execution_count": 13,
      "outputs": [
        {
          "output_type": "execute_result",
          "data": {
            "text/plain": [
              "(918, 12)"
            ]
          },
          "metadata": {},
          "execution_count": 13
        }
      ]
    },
    {
      "cell_type": "code",
      "source": [
        "df.isnull().sum()"
      ],
      "metadata": {
        "colab": {
          "base_uri": "https://localhost:8080/"
        },
        "id": "gXvu-fSsgUqI",
        "outputId": "f9009693-ba28-49f3-b6ca-aa6668730685"
      },
      "execution_count": 14,
      "outputs": [
        {
          "output_type": "execute_result",
          "data": {
            "text/plain": [
              "Age               0\n",
              "Sex               0\n",
              "ChestPainType     0\n",
              "RestingBP         0\n",
              "Cholesterol       0\n",
              "FastingBS         0\n",
              "RestingECG        0\n",
              "MaxHR             0\n",
              "ExerciseAngina    0\n",
              "Oldpeak           0\n",
              "ST_Slope          0\n",
              "HeartDisease      0\n",
              "dtype: int64"
            ]
          },
          "metadata": {},
          "execution_count": 14
        }
      ]
    },
    {
      "cell_type": "code",
      "source": [
        "df.describe()"
      ],
      "metadata": {
        "colab": {
          "base_uri": "https://localhost:8080/",
          "height": 300
        },
        "id": "WR8TWQ2VgWVV",
        "outputId": "6e444276-394b-46dc-e974-9edc02a30fbf"
      },
      "execution_count": 15,
      "outputs": [
        {
          "output_type": "execute_result",
          "data": {
            "text/plain": [
              "              Age   RestingBP  Cholesterol   FastingBS       MaxHR  \\\n",
              "count  918.000000  918.000000   918.000000  918.000000  918.000000   \n",
              "mean    53.510893  132.396514   198.799564    0.233115  136.809368   \n",
              "std      9.432617   18.514154   109.384145    0.423046   25.460334   \n",
              "min     28.000000    0.000000     0.000000    0.000000   60.000000   \n",
              "25%     47.000000  120.000000   173.250000    0.000000  120.000000   \n",
              "50%     54.000000  130.000000   223.000000    0.000000  138.000000   \n",
              "75%     60.000000  140.000000   267.000000    0.000000  156.000000   \n",
              "max     77.000000  200.000000   603.000000    1.000000  202.000000   \n",
              "\n",
              "          Oldpeak  HeartDisease  \n",
              "count  918.000000    918.000000  \n",
              "mean     0.887364      0.553377  \n",
              "std      1.066570      0.497414  \n",
              "min     -2.600000      0.000000  \n",
              "25%      0.000000      0.000000  \n",
              "50%      0.600000      1.000000  \n",
              "75%      1.500000      1.000000  \n",
              "max      6.200000      1.000000  "
            ],
            "text/html": [
              "\n",
              "  <div id=\"df-2e22d464-b8c8-45cb-9cbb-0ccc7bbff01f\">\n",
              "    <div class=\"colab-df-container\">\n",
              "      <div>\n",
              "<style scoped>\n",
              "    .dataframe tbody tr th:only-of-type {\n",
              "        vertical-align: middle;\n",
              "    }\n",
              "\n",
              "    .dataframe tbody tr th {\n",
              "        vertical-align: top;\n",
              "    }\n",
              "\n",
              "    .dataframe thead th {\n",
              "        text-align: right;\n",
              "    }\n",
              "</style>\n",
              "<table border=\"1\" class=\"dataframe\">\n",
              "  <thead>\n",
              "    <tr style=\"text-align: right;\">\n",
              "      <th></th>\n",
              "      <th>Age</th>\n",
              "      <th>RestingBP</th>\n",
              "      <th>Cholesterol</th>\n",
              "      <th>FastingBS</th>\n",
              "      <th>MaxHR</th>\n",
              "      <th>Oldpeak</th>\n",
              "      <th>HeartDisease</th>\n",
              "    </tr>\n",
              "  </thead>\n",
              "  <tbody>\n",
              "    <tr>\n",
              "      <th>count</th>\n",
              "      <td>918.000000</td>\n",
              "      <td>918.000000</td>\n",
              "      <td>918.000000</td>\n",
              "      <td>918.000000</td>\n",
              "      <td>918.000000</td>\n",
              "      <td>918.000000</td>\n",
              "      <td>918.000000</td>\n",
              "    </tr>\n",
              "    <tr>\n",
              "      <th>mean</th>\n",
              "      <td>53.510893</td>\n",
              "      <td>132.396514</td>\n",
              "      <td>198.799564</td>\n",
              "      <td>0.233115</td>\n",
              "      <td>136.809368</td>\n",
              "      <td>0.887364</td>\n",
              "      <td>0.553377</td>\n",
              "    </tr>\n",
              "    <tr>\n",
              "      <th>std</th>\n",
              "      <td>9.432617</td>\n",
              "      <td>18.514154</td>\n",
              "      <td>109.384145</td>\n",
              "      <td>0.423046</td>\n",
              "      <td>25.460334</td>\n",
              "      <td>1.066570</td>\n",
              "      <td>0.497414</td>\n",
              "    </tr>\n",
              "    <tr>\n",
              "      <th>min</th>\n",
              "      <td>28.000000</td>\n",
              "      <td>0.000000</td>\n",
              "      <td>0.000000</td>\n",
              "      <td>0.000000</td>\n",
              "      <td>60.000000</td>\n",
              "      <td>-2.600000</td>\n",
              "      <td>0.000000</td>\n",
              "    </tr>\n",
              "    <tr>\n",
              "      <th>25%</th>\n",
              "      <td>47.000000</td>\n",
              "      <td>120.000000</td>\n",
              "      <td>173.250000</td>\n",
              "      <td>0.000000</td>\n",
              "      <td>120.000000</td>\n",
              "      <td>0.000000</td>\n",
              "      <td>0.000000</td>\n",
              "    </tr>\n",
              "    <tr>\n",
              "      <th>50%</th>\n",
              "      <td>54.000000</td>\n",
              "      <td>130.000000</td>\n",
              "      <td>223.000000</td>\n",
              "      <td>0.000000</td>\n",
              "      <td>138.000000</td>\n",
              "      <td>0.600000</td>\n",
              "      <td>1.000000</td>\n",
              "    </tr>\n",
              "    <tr>\n",
              "      <th>75%</th>\n",
              "      <td>60.000000</td>\n",
              "      <td>140.000000</td>\n",
              "      <td>267.000000</td>\n",
              "      <td>0.000000</td>\n",
              "      <td>156.000000</td>\n",
              "      <td>1.500000</td>\n",
              "      <td>1.000000</td>\n",
              "    </tr>\n",
              "    <tr>\n",
              "      <th>max</th>\n",
              "      <td>77.000000</td>\n",
              "      <td>200.000000</td>\n",
              "      <td>603.000000</td>\n",
              "      <td>1.000000</td>\n",
              "      <td>202.000000</td>\n",
              "      <td>6.200000</td>\n",
              "      <td>1.000000</td>\n",
              "    </tr>\n",
              "  </tbody>\n",
              "</table>\n",
              "</div>\n",
              "      <button class=\"colab-df-convert\" onclick=\"convertToInteractive('df-2e22d464-b8c8-45cb-9cbb-0ccc7bbff01f')\"\n",
              "              title=\"Convert this dataframe to an interactive table.\"\n",
              "              style=\"display:none;\">\n",
              "        \n",
              "  <svg xmlns=\"http://www.w3.org/2000/svg\" height=\"24px\"viewBox=\"0 0 24 24\"\n",
              "       width=\"24px\">\n",
              "    <path d=\"M0 0h24v24H0V0z\" fill=\"none\"/>\n",
              "    <path d=\"M18.56 5.44l.94 2.06.94-2.06 2.06-.94-2.06-.94-.94-2.06-.94 2.06-2.06.94zm-11 1L8.5 8.5l.94-2.06 2.06-.94-2.06-.94L8.5 2.5l-.94 2.06-2.06.94zm10 10l.94 2.06.94-2.06 2.06-.94-2.06-.94-.94-2.06-.94 2.06-2.06.94z\"/><path d=\"M17.41 7.96l-1.37-1.37c-.4-.4-.92-.59-1.43-.59-.52 0-1.04.2-1.43.59L10.3 9.45l-7.72 7.72c-.78.78-.78 2.05 0 2.83L4 21.41c.39.39.9.59 1.41.59.51 0 1.02-.2 1.41-.59l7.78-7.78 2.81-2.81c.8-.78.8-2.07 0-2.86zM5.41 20L4 18.59l7.72-7.72 1.47 1.35L5.41 20z\"/>\n",
              "  </svg>\n",
              "      </button>\n",
              "      \n",
              "  <style>\n",
              "    .colab-df-container {\n",
              "      display:flex;\n",
              "      flex-wrap:wrap;\n",
              "      gap: 12px;\n",
              "    }\n",
              "\n",
              "    .colab-df-convert {\n",
              "      background-color: #E8F0FE;\n",
              "      border: none;\n",
              "      border-radius: 50%;\n",
              "      cursor: pointer;\n",
              "      display: none;\n",
              "      fill: #1967D2;\n",
              "      height: 32px;\n",
              "      padding: 0 0 0 0;\n",
              "      width: 32px;\n",
              "    }\n",
              "\n",
              "    .colab-df-convert:hover {\n",
              "      background-color: #E2EBFA;\n",
              "      box-shadow: 0px 1px 2px rgba(60, 64, 67, 0.3), 0px 1px 3px 1px rgba(60, 64, 67, 0.15);\n",
              "      fill: #174EA6;\n",
              "    }\n",
              "\n",
              "    [theme=dark] .colab-df-convert {\n",
              "      background-color: #3B4455;\n",
              "      fill: #D2E3FC;\n",
              "    }\n",
              "\n",
              "    [theme=dark] .colab-df-convert:hover {\n",
              "      background-color: #434B5C;\n",
              "      box-shadow: 0px 1px 3px 1px rgba(0, 0, 0, 0.15);\n",
              "      filter: drop-shadow(0px 1px 2px rgba(0, 0, 0, 0.3));\n",
              "      fill: #FFFFFF;\n",
              "    }\n",
              "  </style>\n",
              "\n",
              "      <script>\n",
              "        const buttonEl =\n",
              "          document.querySelector('#df-2e22d464-b8c8-45cb-9cbb-0ccc7bbff01f button.colab-df-convert');\n",
              "        buttonEl.style.display =\n",
              "          google.colab.kernel.accessAllowed ? 'block' : 'none';\n",
              "\n",
              "        async function convertToInteractive(key) {\n",
              "          const element = document.querySelector('#df-2e22d464-b8c8-45cb-9cbb-0ccc7bbff01f');\n",
              "          const dataTable =\n",
              "            await google.colab.kernel.invokeFunction('convertToInteractive',\n",
              "                                                     [key], {});\n",
              "          if (!dataTable) return;\n",
              "\n",
              "          const docLinkHtml = 'Like what you see? Visit the ' +\n",
              "            '<a target=\"_blank\" href=https://colab.research.google.com/notebooks/data_table.ipynb>data table notebook</a>'\n",
              "            + ' to learn more about interactive tables.';\n",
              "          element.innerHTML = '';\n",
              "          dataTable['output_type'] = 'display_data';\n",
              "          await google.colab.output.renderOutput(dataTable, element);\n",
              "          const docLink = document.createElement('div');\n",
              "          docLink.innerHTML = docLinkHtml;\n",
              "          element.appendChild(docLink);\n",
              "        }\n",
              "      </script>\n",
              "    </div>\n",
              "  </div>\n",
              "  "
            ]
          },
          "metadata": {},
          "execution_count": 15
        }
      ]
    },
    {
      "cell_type": "code",
      "source": [
        "df['Sex'] = df['Sex'].replace(['M','F'],['0','1'])\n",
        "df['ExerciseAngina'] = df['ExerciseAngina'].replace(['N','Y'],['0','1'])\n",
        "X = df[[\"Age\",\"Sex\",\"RestingBP\", \"Cholesterol\", \"FastingBS\", \"MaxHR\", \"ExerciseAngina\"]]\n",
        "Y = df.HeartDisease\n",
        "f1 = []\n",
        "accur = []\n",
        "precis = []\n",
        "rec = []"
      ],
      "metadata": {
        "id": "foONcAMqgZdC"
      },
      "execution_count": 16,
      "outputs": []
    },
    {
      "cell_type": "code",
      "source": [
        "X_train, X_test, y_train, y_test = train_test_split(X, Y, test_size = 0.5, train_size = 0.5)\n",
        "dt_clf = tree.DecisionTreeClassifier(criterion = \"gini\")\n",
        "\n",
        "clf_bagging = BaggingClassifier(base_estimator=dt_clf, n_estimators=50, oob_score=True)\n",
        "clf_bagging.fit(X_train, y_train)\n",
        "y_pred = clf_bagging.predict(X_test)\n",
        "\n",
        "f1.append(float(f1_score(y_test, y_pred,average='macro')))\n",
        "accur.append(float(accuracy_score(y_test, y_pred)))\n",
        "precis.append(float(precision_score(y_test, y_pred, average='macro')))\n",
        "rec.append(float(recall_score(y_test, y_pred, average='macro')))\n",
        "print(\"F-мера : \" , f1_score(y_test, y_pred,average='macro'))\n",
        "print(\"Аккуратность : \" , accuracy_score(y_test, y_pred))\n",
        "print(\"Точность : \" , precision_score(y_test, y_pred, average='macro'))\n",
        "print(\"Полнота : \" , recall_score(y_test, y_pred,average='macro'))"
      ],
      "metadata": {
        "colab": {
          "base_uri": "https://localhost:8080/"
        },
        "id": "R8E1KoLqgqe7",
        "outputId": "a7b5a0c7-321d-4371-d33d-23d4a3447e1c"
      },
      "execution_count": 17,
      "outputs": [
        {
          "output_type": "stream",
          "name": "stdout",
          "text": [
            "F-мера :  0.7616402330666945\n",
            "Аккуратность :  0.7625272331154684\n",
            "Точность :  0.7617740894071177\n",
            "Полнота :  0.7647301709237565\n"
          ]
        }
      ]
    },
    {
      "cell_type": "code",
      "source": [
        "X_train, X_test, y_train, y_test = train_test_split(X, Y, test_size = 0.5, train_size = 0.5)\n",
        "dt_clf = tree.DecisionTreeClassifier(criterion = \"gini\")\n",
        "\n",
        "clf_bagging = BaggingClassifier(base_estimator=dt_clf, n_estimators=60, oob_score=True)\n",
        "clf_bagging.fit(X_train, y_train)\n",
        "y_pred = clf_bagging.predict(X_test)\n",
        "\n",
        "f1.append(float(f1_score(y_test, y_pred,average='macro')))\n",
        "accur.append(float(accuracy_score(y_test, y_pred)))\n",
        "precis.append(float(precision_score(y_test, y_pred, average='macro')))\n",
        "rec.append(float(recall_score(y_test, y_pred, average='macro')))\n",
        "print(\"F-мера : \" , f1_score(y_test, y_pred,average='macro'))\n",
        "print(\"Аккуратность : \" , accuracy_score(y_test, y_pred))\n",
        "print(\"Точность : \" , precision_score(y_test, y_pred, average='macro'))\n",
        "print(\"Полнота : \" , recall_score(y_test, y_pred,average='macro'))"
      ],
      "metadata": {
        "colab": {
          "base_uri": "https://localhost:8080/"
        },
        "id": "MHbX_fW-gxGv",
        "outputId": "7d14e68f-8ffa-403d-e78d-be4ec4055460"
      },
      "execution_count": 18,
      "outputs": [
        {
          "output_type": "stream",
          "name": "stdout",
          "text": [
            "F-мера :  0.7534057331440194\n",
            "Аккуратность :  0.7559912854030502\n",
            "Точность :  0.7527251864601262\n",
            "Полнота :  0.7545556112031437\n"
          ]
        }
      ]
    },
    {
      "cell_type": "code",
      "source": [
        "X_train, X_test, y_train, y_test = train_test_split(X, Y, test_size = 0.5, train_size = 0.5)\n",
        "dt_clf = tree.DecisionTreeClassifier(criterion = \"gini\")\n",
        "\n",
        "clf_bagging = BaggingClassifier(base_estimator=dt_clf, n_estimators=70, oob_score=True)\n",
        "clf_bagging.fit(X_train, y_train)\n",
        "y_pred = clf_bagging.predict(X_test)\n",
        "\n",
        "f1.append(float(f1_score(y_test, y_pred,average='macro')))\n",
        "accur.append(float(accuracy_score(y_test, y_pred)))\n",
        "precis.append(float(precision_score(y_test, y_pred, average='macro')))\n",
        "rec.append(float(recall_score(y_test, y_pred, average='macro')))\n",
        "print(\"F-мера : \" , f1_score(y_test, y_pred,average='macro'))\n",
        "print(\"Аккуратность : \" , accuracy_score(y_test, y_pred))\n",
        "print(\"Точность : \" , precision_score(y_test, y_pred, average='macro'))\n",
        "print(\"Полнота : \" , recall_score(y_test, y_pred,average='macro'))"
      ],
      "metadata": {
        "colab": {
          "base_uri": "https://localhost:8080/"
        },
        "id": "PINWGxlVgxqZ",
        "outputId": "70b04b32-b4c2-49a8-ffda-ad1ffe8e668b"
      },
      "execution_count": 19,
      "outputs": [
        {
          "output_type": "stream",
          "name": "stdout",
          "text": [
            "F-мера :  0.7854778481775038\n",
            "Аккуратность :  0.7886710239651417\n",
            "Точность :  0.7839302094480967\n",
            "Полнота :  0.7898232677902621\n"
          ]
        }
      ]
    },
    {
      "cell_type": "code",
      "source": [
        "X_train, X_test, y_train, y_test = train_test_split(X, Y, test_size = 0.5, train_size = 0.5)\n",
        "dt_clf = tree.DecisionTreeClassifier(criterion = \"gini\")\n",
        "\n",
        "clf_bagging = BaggingClassifier(base_estimator=dt_clf, n_estimators=80, oob_score=True)\n",
        "clf_bagging.fit(X_train, y_train)\n",
        "y_pred = clf_bagging.predict(X_test)\n",
        "\n",
        "f1.append(float(f1_score(y_test, y_pred,average='macro')))\n",
        "accur.append(float(accuracy_score(y_test, y_pred)))\n",
        "precis.append(float(precision_score(y_test, y_pred, average='macro')))\n",
        "rec.append(float(recall_score(y_test, y_pred, average='macro')))\n",
        "print(\"F-мера : \" , f1_score(y_test, y_pred,average='macro'))\n",
        "print(\"Аккуратность : \" , accuracy_score(y_test, y_pred))\n",
        "print(\"Точность : \" , precision_score(y_test, y_pred, average='macro'))\n",
        "print(\"Полнота : \" , recall_score(y_test, y_pred,average='macro'))"
      ],
      "metadata": {
        "colab": {
          "base_uri": "https://localhost:8080/"
        },
        "id": "KtXTxFj8gyI2",
        "outputId": "5fab1faa-4ea5-4925-aa39-3263614ad16a"
      },
      "execution_count": 20,
      "outputs": [
        {
          "output_type": "stream",
          "name": "stdout",
          "text": [
            "F-мера :  0.7462268177232871\n",
            "Аккуратность :  0.7516339869281046\n",
            "Точность :  0.7497546518018372\n",
            "Полнота :  0.7446078431372549\n"
          ]
        }
      ]
    },
    {
      "cell_type": "code",
      "source": [
        "X_train, X_test, y_train, y_test = train_test_split(X, Y, test_size = 0.5, train_size = 0.5)\n",
        "dt_clf = tree.DecisionTreeClassifier(criterion = \"gini\")\n",
        "\n",
        "clf_bagging = BaggingClassifier(base_estimator=dt_clf, n_estimators=90, oob_score=True)\n",
        "clf_bagging.fit(X_train, y_train)\n",
        "y_pred = clf_bagging.predict(X_test)\n",
        "\n",
        "f1.append(float(f1_score(y_test, y_pred,average='macro')))\n",
        "accur.append(float(accuracy_score(y_test, y_pred)))\n",
        "precis.append(float(precision_score(y_test, y_pred, average='macro')))\n",
        "rec.append(float(recall_score(y_test, y_pred, average='macro')))\n",
        "print(\"F-мера : \" , f1_score(y_test, y_pred,average='macro'))\n",
        "print(\"Аккуратность : \" , accuracy_score(y_test, y_pred))\n",
        "print(\"Точность : \" , precision_score(y_test, y_pred, average='macro'))\n",
        "print(\"Полнота : \" , recall_score(y_test, y_pred,average='macro'))"
      ],
      "metadata": {
        "colab": {
          "base_uri": "https://localhost:8080/"
        },
        "id": "iwJqfuD_gyq9",
        "outputId": "689c133a-cbe4-4d0a-b48f-841687514e8f"
      },
      "execution_count": 21,
      "outputs": [
        {
          "output_type": "stream",
          "name": "stdout",
          "text": [
            "F-мера :  0.7836072198275861\n",
            "Аккуратность :  0.7864923747276689\n",
            "Точность :  0.7842473678121022\n",
            "Полнота :  0.783090071058191\n"
          ]
        }
      ]
    },
    {
      "cell_type": "code",
      "source": [
        "X_train, X_test, y_train, y_test = train_test_split(X, Y, test_size = 0.5, train_size = 0.5)\n",
        "dt_clf = tree.DecisionTreeClassifier(criterion = \"gini\")\n",
        "\n",
        "clf_bagging = BaggingClassifier(base_estimator=dt_clf, n_estimators=100, oob_score=True)\n",
        "clf_bagging.fit(X_train, y_train)\n",
        "y_pred = clf_bagging.predict(X_test)\n",
        "\n",
        "f1.append(float(f1_score(y_test, y_pred,average='macro')))\n",
        "accur.append(float(accuracy_score(y_test, y_pred)))\n",
        "precis.append(float(precision_score(y_test, y_pred, average='macro')))\n",
        "rec.append(float(recall_score(y_test, y_pred, average='macro')))\n",
        "print(\"F-мера : \" , f1_score(y_test, y_pred,average='macro'))\n",
        "print(\"Аккуратность : \" , accuracy_score(y_test, y_pred))\n",
        "print(\"Точность : \" , precision_score(y_test, y_pred, average='macro'))\n",
        "print(\"Полнота : \" , recall_score(y_test, y_pred,average='macro'))"
      ],
      "metadata": {
        "colab": {
          "base_uri": "https://localhost:8080/"
        },
        "id": "TYMYJ9Fjg6GI",
        "outputId": "d9a6b4c9-c313-4129-acb2-e8df72b4f085"
      },
      "execution_count": 22,
      "outputs": [
        {
          "output_type": "stream",
          "name": "stdout",
          "text": [
            "F-мера :  0.7701245367433475\n",
            "Аккуратность :  0.7712418300653595\n",
            "Точность :  0.7699104079298513\n",
            "Полнота :  0.7704052402413872\n"
          ]
        }
      ]
    },
    {
      "cell_type": "code",
      "source": [
        "plt.bar(names, f1)\n",
        "plt.xlabel(\"количество участников ансамбля\")\n",
        "plt.ylabel(\"F-мера\")\n",
        "plt.show()\n",
        "plt.bar(names, accur)\n",
        "plt.xlabel(\"количество участников ансамбля\")\n",
        "plt.ylabel(\"аккуратность\")\n",
        "plt.show()\n",
        "plt.bar(names, precis)\n",
        "plt.xlabel(\"количество участников ансамбля\")\n",
        "plt.ylabel(\"точность\")\n",
        "plt.show()\n",
        "plt.bar(names, rec)\n",
        "plt.xlabel(\"количество участников ансамбля\")\n",
        "plt.ylabel(\"полнота\")\n",
        "plt.show()"
      ],
      "metadata": {
        "colab": {
          "base_uri": "https://localhost:8080/",
          "height": 1000
        },
        "id": "qcCSn080g7oZ",
        "outputId": "49cb4918-829f-405f-b49b-519c1533ffb4"
      },
      "execution_count": 23,
      "outputs": [
        {
          "output_type": "display_data",
          "data": {
            "text/plain": [
              "<Figure size 432x288 with 1 Axes>"
            ],
            "image/png": "[encoded data removed]"
          },
          "metadata": {
            "needs_background": "light"
          }
        },
        {
          "output_type": "display_data",
          "data": {
            "text/plain": [
              "<Figure size 432x288 with 1 Axes>"
            ],
            "image/png": "[encoded data removed]"
          },
          "metadata": {
            "needs_background": "light"
          }
        },
        {
          "output_type": "display_data",
          "data": {
            "text/plain": [
              "<Figure size 432x288 with 1 Axes>"
            ],
            "image/png": "[encoded data removed]"
          },
          "metadata": {
            "needs_background": "light"
          }
        },
        {
          "output_type": "display_data",
          "data": {
            "text/plain": [
              "<Figure size 432x288 with 1 Axes>"
            ],
            "image/png": "[encoded data removed]"
          },
          "metadata": {
            "needs_background": "light"
          }
        }
      ]
    }
  ]
}